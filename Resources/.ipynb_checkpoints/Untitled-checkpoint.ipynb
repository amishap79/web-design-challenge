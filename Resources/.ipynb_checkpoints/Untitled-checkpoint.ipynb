{
 "cells": [
  {
   "cell_type": "code",
   "execution_count": 1,
   "metadata": {},
   "outputs": [],
   "source": [
    "import pandas as pd"
   ]
  },
  {
   "cell_type": "code",
   "execution_count": 2,
   "metadata": {},
   "outputs": [],
   "source": [
    "cities_df = pd.read_csv(\"cities.csv\")"
   ]
  },
  {
   "cell_type": "code",
   "execution_count": 3,
   "metadata": {},
   "outputs": [
    {
     "name": "stdout",
     "output_type": "stream",
     "text": [
      "   City_ID          City  Cloudiness Country        Date  Humidity    Lat  \\\n",
      "0        0  jacareacanga           0      BR  1528902000        62  -6.22   \n",
      "1        1    kaitangata         100      NZ  1528905304        94 -46.28   \n",
      "2        2      goulburn          20      AU  1528905078        91 -34.75   \n",
      "3        3          lata          76      IN  1528905305        89  30.78   \n",
      "4        4    chokurdakh           0      RU  1528905306        88  70.62   \n",
      "\n",
      "      Lng  Max Temp  Wind Speed  \n",
      "0  -57.76     89.60        6.93  \n",
      "1  169.85     42.61        5.64  \n",
      "2  149.72     44.32       10.11  \n",
      "3   78.62     59.89        0.94  \n",
      "4  147.90     32.17        2.95  \n"
     ]
    }
   ],
   "source": [
    "print(cities_df.head())"
   ]
  },
  {
   "cell_type": "code",
   "execution_count": null,
   "metadata": {},
   "outputs": [],
   "source": [
    "cities_html = cities_df.to_html()"
   ]
  }
 ],
 "metadata": {
  "kernelspec": {
   "display_name": "Python 3",
   "language": "python",
   "name": "python3"
  },
  "language_info": {
   "codemirror_mode": {
    "name": "ipython",
    "version": 3
   },
   "file_extension": ".py",
   "mimetype": "text/x-python",
   "name": "python",
   "nbconvert_exporter": "python",
   "pygments_lexer": "ipython3",
   "version": "3.7.4"
  }
 },
 "nbformat": 4,
 "nbformat_minor": 2
}
